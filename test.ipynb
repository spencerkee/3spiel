{
 "cells": [
  {
   "cell_type": "code",
   "execution_count": 22,
   "metadata": {},
   "outputs": [
    {
     "ename": "ModuleNotFoundError",
     "evalue": "No module named 'sklearn.manifold'",
     "output_type": "error",
     "traceback": [
      "\u001b[0;31m---------------------------------------------------------------------------\u001b[0m",
      "\u001b[0;31mModuleNotFoundError\u001b[0m                       Traceback (most recent call last)",
      "Cell \u001b[0;32mIn[22], line 7\u001b[0m\n\u001b[1;32m      4\u001b[0m \u001b[38;5;28;01mfrom\u001b[39;00m \u001b[38;5;21;01mpprint\u001b[39;00m \u001b[38;5;28;01mimport\u001b[39;00m pprint\n\u001b[1;32m      5\u001b[0m \u001b[38;5;66;03m# umap-learn\u001b[39;00m\n\u001b[1;32m      6\u001b[0m \u001b[38;5;66;03m# import umap.umap_ as umap\u001b[39;00m\n\u001b[0;32m----> 7\u001b[0m \u001b[38;5;28;01mfrom\u001b[39;00m \u001b[38;5;21;01msklearn\u001b[39;00m\u001b[38;5;21;01m.\u001b[39;00m\u001b[38;5;21;01mmanifold\u001b[39;00m \u001b[38;5;28;01mimport\u001b[39;00m TSNE\n\u001b[1;32m      8\u001b[0m a1 \u001b[38;5;241m=\u001b[39m np\u001b[38;5;241m.\u001b[39masarray([(\u001b[38;5;241m216\u001b[39m, \u001b[38;5;241m236\u001b[39m, \u001b[38;5;241m235\u001b[39m, \u001b[38;5;241m230\u001b[39m, \u001b[38;5;241m229\u001b[39m), (\u001b[38;5;241m237\u001b[39m, \u001b[38;5;241m192\u001b[39m, \u001b[38;5;241m191\u001b[39m, \u001b[38;5;241m193\u001b[39m, \u001b[38;5;241m199\u001b[39m), (\u001b[38;5;241m218\u001b[39m, \u001b[38;5;241m189\u001b[39m, \u001b[38;5;241m191\u001b[39m, \u001b[38;5;241m192\u001b[39m, \u001b[38;5;241m193\u001b[39m), (\u001b[38;5;241m201\u001b[39m, \u001b[38;5;241m239\u001b[39m, \u001b[38;5;241m230\u001b[39m, \u001b[38;5;241m229\u001b[39m, \u001b[38;5;241m220\u001b[39m), (\u001b[38;5;241m237\u001b[39m, \u001b[38;5;241m210\u001b[39m, \u001b[38;5;241m200\u001b[39m, \u001b[38;5;241m236\u001b[39m, \u001b[38;5;241m235\u001b[39m)])\n\u001b[1;32m      9\u001b[0m a2 \u001b[38;5;241m=\u001b[39m np\u001b[38;5;241m.\u001b[39masarray([(\u001b[38;5;241m202\u001b[39m, \u001b[38;5;241m202\u001b[39m, \u001b[38;5;241m201\u001b[39m, \u001b[38;5;241m203\u001b[39m, \u001b[38;5;241m204\u001b[39m), (\u001b[38;5;241m210\u001b[39m, \u001b[38;5;241m211\u001b[39m, \u001b[38;5;241m213\u001b[39m, \u001b[38;5;241m209\u001b[39m, \u001b[38;5;241m208\u001b[39m), (\u001b[38;5;241m203\u001b[39m, \u001b[38;5;241m206\u001b[39m, \u001b[38;5;241m202\u001b[39m, \u001b[38;5;241m201\u001b[39m, \u001b[38;5;241m199\u001b[39m), (\u001b[38;5;241m201\u001b[39m, \u001b[38;5;241m207\u001b[39m, \u001b[38;5;241m206\u001b[39m, \u001b[38;5;241m199\u001b[39m, \u001b[38;5;241m205\u001b[39m), (\u001b[38;5;241m190\u001b[39m, \u001b[38;5;241m191\u001b[39m, \u001b[38;5;241m192\u001b[39m, \u001b[38;5;241m193\u001b[39m, \u001b[38;5;241m194\u001b[39m)])\n",
      "\u001b[0;31mModuleNotFoundError\u001b[0m: No module named 'sklearn.manifold'"
     ]
    }
   ],
   "source": [
    "import numpy as np\n",
    "from matplotlib import pyplot as plt\n",
    "from sklearn.discriminant_analysis import LinearDiscriminantAnalysis\n",
    "from pprint import pprint\n",
    "# umap-learn\n",
    "# import umap.umap_ as umap\n",
    "from sklearn.manifold import TSNE\n",
    "a1 = np.asarray([(216, 236, 235, 230, 229), (237, 192, 191, 193, 199), (218, 189, 191, 192, 193), (201, 239, 230, 229, 220), (237, 210, 200, 236, 235)])\n",
    "a2 = np.asarray([(202, 202, 201, 203, 204), (210, 211, 213, 209, 208), (203, 206, 202, 201, 199), (201, 207, 206, 199, 205), (190, 191, 192, 193, 194)])\n",
    "\n",
    "b1 = np.asarray([(236, 237, 238, 239, 240), (215, 216, 217, 218, 219), (201, 202, 203, 209, 210), (240, 241, 243, 244, 245), (220, 221, 222, 231, 242)])\n",
    "b2 = np.asarray([(242, 243, 245, 246, 247), (248, 249, 250, 251, 252), (210, 203, 209, 210, 211), (247, 248, 249, 250, 251), (230, 231, 235, 236, 240)])\n",
    "\n",
    "X = np.vstack([a1.T, a2.T, b1.T, b2.T])\n",
    "y = [1]*5 + [2]*5 + [3]*5 + [4]*5\n",
    "clf = LinearDiscriminantAnalysis(n_components=2)\n",
    "\n",
    "reducer = umap.UMAP()\n",
    "\n",
    "Xmem = reducer.fit_transform(X)\n",
    "print(Xmem.shape)\n",
    "\n",
    "pprint(X)\n",
    "pprint(y)\n",
    "clf.fit(X, y)\n",
    "\n",
    "# Xem = clf.transform(X)\n",
    "\n",
    "# pprint(Xem)\n",
    "fig, ax = plt.subplots()\n",
    "ax.scatter(Xem[:, 0], Xem[:, 1], c='b', marker='o')\n",
    "# for i, txt in enumerate(n):\n",
    "for ind, val in enumerate(Xem):\n",
    "    ax.annotate(val[0], (val[0], val[1]))\n",
    "# plt.scatter(Xem[5:10,0], Xem[5:10,1], c='b', marker='s')\n",
    "# plt.scatter(Xem[10:15,0], Xem[10:15,1], c='r', marker='o')\n",
    "# plt.scatter(Xem[15:20,0], Xem[15:20,1], c='r', marker='s')"
   ]
  }
 ],
 "metadata": {
  "kernelspec": {
   "display_name": "Python 3",
   "language": "python",
   "name": "python3"
  },
  "language_info": {
   "codemirror_mode": {
    "name": "ipython",
    "version": 3
   },
   "file_extension": ".py",
   "mimetype": "text/x-python",
   "name": "python",
   "nbconvert_exporter": "python",
   "pygments_lexer": "ipython3",
   "version": "3.12.1"
  }
 },
 "nbformat": 4,
 "nbformat_minor": 2
}
